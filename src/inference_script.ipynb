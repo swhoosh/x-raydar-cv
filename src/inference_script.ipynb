{
 "cells": [
  {
   "cell_type": "code",
   "execution_count": 1,
   "id": "ef1f4154",
   "metadata": {},
   "outputs": [],
   "source": [
    "# Sample inference script for calling model on a test DICOM"
   ]
  },
  {
   "cell_type": "code",
   "execution_count": 2,
   "id": "8bf10e79",
   "metadata": {},
   "outputs": [],
   "source": [
    "import sys\n",
    "import os\n",
    "import argparse\n",
    "import pydicom as pydicom\n",
    "from pydicom.errors import InvalidDicomError\n",
    "import json\n",
    "import utils.dicom_utils as dicom_utils\n",
    "import model_20210820_XNet38MS.predict as predict"
   ]
  },
  {
   "cell_type": "code",
   "execution_count": 3,
   "id": "70cd20ec",
   "metadata": {},
   "outputs": [
    {
     "name": "stdout",
     "output_type": "stream",
     "text": [
      "INFO: Model [ XNet38_urg ] ready\n",
      "INFO: Model [ XNet38_urg ] ready\n",
      "INFO: Model [ XNet38_urg ] ready\n"
     ]
    }
   ],
   "source": [
    "model = predict.build_model()"
   ]
  },
  {
   "cell_type": "code",
   "execution_count": 4,
   "id": "8cf8c489",
   "metadata": {},
   "outputs": [
    {
     "data": {
      "text/plain": [
       "{'AI_urgency': 'non-urgent',\n",
       " 'AI_prediction': {'abnormal_non_clinically_important': 0.2855035364627838,\n",
       "  'aortic_calcification': 0.009742534719407558,\n",
       "  'apical_changes': 0.016469821333885193,\n",
       "  'atelectasis': 0.03189649060368538,\n",
       "  'axillary_abnormality': 0.07436582446098328,\n",
       "  'bronchial_changes': 0.06539684534072876,\n",
       "  'bulla': 0.00715017132461071,\n",
       "  'cardiomegaly': 0.06969816237688065,\n",
       "  'cavity': 0.009205610491335392,\n",
       "  'clavicle_fracture': 0.0172500628978014,\n",
       "  'consolidation': 0.04023722931742668,\n",
       "  'cardiac_calcification': 0.002619689330458641,\n",
       "  'dextrocardia': 0.008816876448690891,\n",
       "  'dilated_bowel': 0.042498812079429626,\n",
       "  'emphysema': 0.03784454986453056,\n",
       "  'ground_glass_opacification': 0.012992220930755138,\n",
       "  'hemidiaphragm_elevated': 0.03217305243015289,\n",
       "  'hernia': 0.016293952241539955,\n",
       "  'hyperexpanded_lungs': 0.1289665699005127,\n",
       "  'interstitial_shadowing': 0.02183026261627674,\n",
       "  'mediastinum_displaced': 0.3487072288990021,\n",
       "  'mediastinum_widened': 0.035522934049367905,\n",
       "  'object': 0.07176124304533005,\n",
       "  'paraspinal_mass': 0.00290314550511539,\n",
       "  'paratracheal_hilar_enlargement': 0.06073111295700073,\n",
       "  'parenchymal_lesion': 0.05591296777129173,\n",
       "  'pleural_abnormality': 0.029964344576001167,\n",
       "  'pleural_effusion': 0.011427809484302998,\n",
       "  'pneumomediastinum': 0.0018950101220980287,\n",
       "  'pneumoperitoneum': 0.010980326682329178,\n",
       "  'pneumothorax': 0.013296845369040966,\n",
       "  'rib_fracture': 0.04263553395867348,\n",
       "  'rib_lesion': 0.29303178191185,\n",
       "  'scoliosis': 0.9939655661582947,\n",
       "  'subcutaneous_emphysema': 0.003286808729171753,\n",
       "  'tortuosity_aorta': 0.025463750585913658,\n",
       "  'Pulmonary_bloodflow_redis.': 0.013137184083461761,\n",
       "  'volume_loss': 0.011409468948841095}}"
      ]
     },
     "execution_count": 4,
     "metadata": {},
     "output_type": "execute_result"
    }
   ],
   "source": [
    "filename = '../demo_data/04f72062c19d9cd7a55519708aa2cc58b5e52b52' # test DICOM\n",
    "\n",
    "dicom = pydicom.read_file(filename)\n",
    "image_original = dicom_utils.img_clean(dicom)\n",
    "predict.main(image_original, model)"
   ]
  },
  {
   "cell_type": "code",
   "execution_count": 6,
   "id": "65bf595f",
   "metadata": {},
   "outputs": [
    {
     "data": {
      "text/plain": [
       "(1808, 1692)"
      ]
     },
     "execution_count": 6,
     "metadata": {},
     "output_type": "execute_result"
    }
   ],
   "source": [
    "image_original.shape"
   ]
  }
 ],
 "metadata": {
  "kernelspec": {
   "display_name": "Python 3 (ipykernel)",
   "language": "python",
   "name": "python3"
  },
  "language_info": {
   "codemirror_mode": {
    "name": "ipython",
    "version": 3
   },
   "file_extension": ".py",
   "mimetype": "text/x-python",
   "name": "python",
   "nbconvert_exporter": "python",
   "pygments_lexer": "ipython3",
   "version": "3.10.13"
  }
 },
 "nbformat": 4,
 "nbformat_minor": 5
}
